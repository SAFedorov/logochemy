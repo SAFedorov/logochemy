{
  "cells": [
    {
      "cell_type": "code",
      "execution_count": 1,
      "metadata": {
        "colab": {
          "base_uri": "https://localhost:8080/"
        },
        "id": "TXd9iwcqDeDw",
        "outputId": "974ef2fe-27aa-4965-b1bd-3d75e6f0cb80"
      },
      "outputs": [
        {
          "name": "stdout",
          "output_type": "stream",
          "text": [
            "Collecting portalocker==2.1\n",
            "  Downloading portalocker-2.1.0-py2.py3-none-any.whl (13 kB)\n",
            "Installing collected packages: portalocker\n",
            "Successfully installed portalocker-2.1.0\n"
          ]
        }
      ],
      "source": [
        "# For running on colab\n",
        "# !pip install portalocker==2.1"
      ]
    },
    {
      "cell_type": "code",
      "execution_count": 1,
      "metadata": {
        "id": "ETnbiRTyDGnG"
      },
      "outputs": [],
      "source": [
        "import time\n",
        "from collections import Counter\n",
        "from itertools import tee\n",
        "from torchtext.datasets import WikiText2\n",
        "\n",
        "import matplotlib.pyplot as plt\n",
        "import pandas as pd\n",
        "\n",
        "from logochemy import bpe_reduce, mbe_reduce"
      ]
    },
    {
      "cell_type": "code",
      "execution_count": 4,
      "metadata": {
        "colab": {
          "base_uri": "https://localhost:8080/"
        },
        "id": "6qv2o38ZDGnJ",
        "outputId": "d84369e6-10a8-40da-afdb-3455d5647a1c"
      },
      "outputs": [
        {
          "name": "stdout",
          "output_type": "stream",
          "text": [
            "Total characters in the text: 10780437\n",
            "Alphabet size: 243\n"
          ]
        }
      ],
      "source": [
        "train_iter = WikiText2(split=\"train\")\n",
        "\n",
        "# case-insensitive versions (the default)\n",
        "train_str = ''.join([v for v in train_iter]).lower()\n",
        "train_list = list(train_str)\n",
        "\n",
        "print(f'Total characters in the text: {len(train_str)}')\n",
        "print(f'Alphabet size: {len(Counter(train_str))}')"
      ]
    },
    {
      "cell_type": "code",
      "execution_count": 5,
      "metadata": {},
      "outputs": [
        {
          "name": "stdout",
          "output_type": "stream",
          "text": [
            "Input tokens: 10780437, vocabulary size = 243, n(c1) = 960245, n(c2) = 2088628, n(c1, c2) = 310378.\n",
            "Replacing ('e', ' ')\n",
            "time 6.975 s\n"
          ]
        }
      ],
      "source": [
        "# One iteration of byte-pair merging\n",
        "\n",
        "start_time = time.time()\n",
        "bpe_reduce(train_list, niter=1)\n",
        "print(f'time {time.time() - start_time:.3f} s')"
      ]
    },
    {
      "cell_type": "code",
      "execution_count": 13,
      "metadata": {},
      "outputs": [
        {
          "name": "stdout",
          "output_type": "stream",
          "text": [
            "Input tokens: 10780437, vocabulary size = 243, n(c1) = 700446, n(c2) = 393083, n(c1, c2) = 221132.\n",
            "Replacing ('t', 'h')\n",
            "Input tokens: 10559305, vocabulary size = 244, n(c1) = 105274, n(c2) =  54635, n(c1, c2) =  54625.\n",
            "Replacing ('k', '>')\n",
            "Input tokens: 10504680, vocabulary size = 245, n(c1) = 221132, n(c2) = 960245, n(c1, c2) = 157280.\n",
            "Replacing ('th', 'e')\n",
            "Iteration:    0. Time since start: 0.20 min.\n",
            "Input tokens: 10347400, vocabulary size = 246, n(c1) =  54638, n(c2) = 256331, n(c1, c2) =  54625.\n",
            "Replacing ('<', 'u')\n",
            "Input tokens: 10292775, vocabulary size = 247, n(c1) = 2088628, n(c2) = 157280, n(c1, c2) = 146702.\n",
            "Replacing (' ', 'the')\n",
            "Input tokens: 10146073, vocabulary size = 248, n(c1) = 146702, n(c2) = 1941926, n(c1, c2) = 130563.\n",
            "Replacing (' the', ' ')\n",
            "Iteration:    1. Time since start: 0.40 min.\n"
          ]
        }
      ],
      "source": [
        "# 6 iterations of byte-pair merging with pair sording by mutual information\n",
        "\n",
        "start_time = time.time()\n",
        "train_list_bpe = train_list\n",
        "\n",
        "for i in range(2):\n",
        "    train_list_bpe = bpe_reduce(train_list_bpe, niter=3, kf=\"mi\")\n",
        "    print(f'Iteration: {i:4}. Time since start: {(time.time() - start_time)/60:.2f} min.')"
      ]
    },
    {
      "cell_type": "code",
      "execution_count": 10,
      "metadata": {},
      "outputs": [
        {
          "name": "stdout",
          "output_type": "stream",
          "text": [
            "Input tokens: 10780437, f =  5.07e-03, k = 243, (n-1)*f*k*ln(k) =  27.054\n",
            "Replacing [(' ', 't', 'h', 'e', ' '), ('<', 'u', 'n', 'k', '>')]\n",
            "Input tokens: 10038905, f =  1.61e-02, k = 245, (n-1)*f*k*ln(k) =  21.713\n",
            "Replacing [('s', ' '), ('i', 'n')]\n",
            "Input tokens:  9664316, f =  1.34e-02, k = 247, (n-1)*f*k*ln(k) =  18.183\n",
            "Replacing [('e', ' '), ('a', 'n')]\n"
          ]
        }
      ],
      "source": [
        "# Multibyte encoding \n",
        "\n",
        "_ = mbe_reduce(train_list, nmax=5, mpi=2, niter=3)"
      ]
    },
    {
      "cell_type": "markdown",
      "metadata": {},
      "source": [
        "# Text statistics"
      ]
    },
    {
      "cell_type": "code",
      "execution_count": 6,
      "metadata": {
        "id": "B7vxMNZpDGnM"
      },
      "outputs": [],
      "source": [
        "def count_n(it, n):\n",
        "    \"\"\"Counts overlapping n-element sequences from an iterator.\"\"\"\n",
        "    il = tee(it, n)\n",
        "    for i, iter_i in enumerate(il):\n",
        "        for _ in range(i):\n",
        "            next(iter_i)\n",
        "    return Counter(zip(*il))\n",
        "\n",
        "def count_n_unordered(it, n):\n",
        "    \"\"\"Counts overlapping n-element sequences from an iterator.\"\"\"\n",
        "    il = tee(it, n)\n",
        "    for i, iter_i in enumerate(il):\n",
        "        for _ in range(i):\n",
        "            next(iter_i)\n",
        "    return Counter(map(lambda x: frozenset(Counter(x).items()), zip(*il)))"
      ]
    },
    {
      "cell_type": "markdown",
      "metadata": {
        "id": "yOXeAf1ADGnM"
      },
      "source": [
        "## Counting the ordered combinations of characters"
      ]
    },
    {
      "cell_type": "code",
      "execution_count": 5,
      "metadata": {
        "colab": {
          "base_uri": "https://localhost:8080/"
        },
        "id": "dCMW7SzwS5Q9",
        "outputId": "bb273d1f-630f-424b-f7f2-0d3501a98207"
      },
      "outputs": [
        {
          "name": "stdout",
          "output_type": "stream",
          "text": [
            "time 95.526 s\n"
          ]
        }
      ],
      "source": [
        "start_time = time.time()\n",
        "char_cnts = [count_n(train_str, i) for i in range(1, 16)]  # sequences of 2 to 15 tokens\n",
        "print(f'time {time.time() - start_time:.3f} s')"
      ]
    },
    {
      "cell_type": "code",
      "execution_count": 6,
      "metadata": {
        "id": "egCLCNObDGnP"
      },
      "outputs": [],
      "source": [
        "min_ncount = (0, 1, 10, 100, 1000)  # minimum number of counts\n",
        "d = {f'>{nc} counts':[len([k for k, v in cnt.items() if v > nc]) for cnt in char_cnts] for nc in min_ncount}\n",
        "cdf = pd.DataFrame(d, index=[f'{i+1}-token' for i in range(len(char_cnts))])"
      ]
    },
    {
      "cell_type": "code",
      "execution_count": 15,
      "metadata": {
        "colab": {
          "base_uri": "https://localhost:8080/",
          "height": 519
        },
        "id": "-oEb6LNrc7-1",
        "outputId": "2bed8eb2-ca71-4a26-ca10-a509c6e3d833"
      },
      "outputs": [
        {
          "data": {
            "text/html": [
              "\n",
              "  <div id=\"df-5eb1917a-1782-4b03-b6cc-92a61fa323ad\">\n",
              "    <div class=\"colab-df-container\">\n",
              "      <div>\n",
              "<style scoped>\n",
              "    .dataframe tbody tr th:only-of-type {\n",
              "        vertical-align: middle;\n",
              "    }\n",
              "\n",
              "    .dataframe tbody tr th {\n",
              "        vertical-align: top;\n",
              "    }\n",
              "\n",
              "    .dataframe thead th {\n",
              "        text-align: right;\n",
              "    }\n",
              "</style>\n",
              "<table border=\"1\" class=\"dataframe\">\n",
              "  <thead>\n",
              "    <tr style=\"text-align: right;\">\n",
              "      <th></th>\n",
              "      <th>&gt;0 counts</th>\n",
              "      <th>&gt;1 counts</th>\n",
              "      <th>&gt;10 counts</th>\n",
              "      <th>&gt;100 counts</th>\n",
              "      <th>&gt;1000 counts</th>\n",
              "    </tr>\n",
              "  </thead>\n",
              "  <tbody>\n",
              "    <tr>\n",
              "      <th>1-token</th>\n",
              "      <td>243</td>\n",
              "      <td>243</td>\n",
              "      <td>123</td>\n",
              "      <td>70</td>\n",
              "      <td>54</td>\n",
              "    </tr>\n",
              "    <tr>\n",
              "      <th>2-token</th>\n",
              "      <td>1628</td>\n",
              "      <td>1628</td>\n",
              "      <td>1056</td>\n",
              "      <td>736</td>\n",
              "      <td>449</td>\n",
              "    </tr>\n",
              "    <tr>\n",
              "      <th>3-token</th>\n",
              "      <td>13453</td>\n",
              "      <td>12713</td>\n",
              "      <td>8777</td>\n",
              "      <td>4803</td>\n",
              "      <td>1806</td>\n",
              "    </tr>\n",
              "    <tr>\n",
              "      <th>4-token</th>\n",
              "      <td>71913</td>\n",
              "      <td>63206</td>\n",
              "      <td>35207</td>\n",
              "      <td>12934</td>\n",
              "      <td>2142</td>\n",
              "    </tr>\n",
              "    <tr>\n",
              "      <th>5-token</th>\n",
              "      <td>260622</td>\n",
              "      <td>195276</td>\n",
              "      <td>81738</td>\n",
              "      <td>18334</td>\n",
              "      <td>1378</td>\n",
              "    </tr>\n",
              "    <tr>\n",
              "      <th>6-token</th>\n",
              "      <td>689031</td>\n",
              "      <td>431650</td>\n",
              "      <td>127881</td>\n",
              "      <td>17175</td>\n",
              "      <td>821</td>\n",
              "    </tr>\n",
              "    <tr>\n",
              "      <th>7-token</th>\n",
              "      <td>1396234</td>\n",
              "      <td>723418</td>\n",
              "      <td>149924</td>\n",
              "      <td>13902</td>\n",
              "      <td>475</td>\n",
              "    </tr>\n",
              "    <tr>\n",
              "      <th>8-token</th>\n",
              "      <td>2330206</td>\n",
              "      <td>990803</td>\n",
              "      <td>150160</td>\n",
              "      <td>10427</td>\n",
              "      <td>256</td>\n",
              "    </tr>\n",
              "    <tr>\n",
              "      <th>9-token</th>\n",
              "      <td>3390749</td>\n",
              "      <td>1186401</td>\n",
              "      <td>137086</td>\n",
              "      <td>7223</td>\n",
              "      <td>130</td>\n",
              "    </tr>\n",
              "    <tr>\n",
              "      <th>10-token</th>\n",
              "      <td>4474981</td>\n",
              "      <td>1293110</td>\n",
              "      <td>117365</td>\n",
              "      <td>4746</td>\n",
              "      <td>55</td>\n",
              "    </tr>\n",
              "    <tr>\n",
              "      <th>11-token</th>\n",
              "      <td>5520936</td>\n",
              "      <td>1319516</td>\n",
              "      <td>94712</td>\n",
              "      <td>2925</td>\n",
              "      <td>22</td>\n",
              "    </tr>\n",
              "    <tr>\n",
              "      <th>12-token</th>\n",
              "      <td>6480976</td>\n",
              "      <td>1277937</td>\n",
              "      <td>72161</td>\n",
              "      <td>1791</td>\n",
              "      <td>8</td>\n",
              "    </tr>\n",
              "    <tr>\n",
              "      <th>13-token</th>\n",
              "      <td>7317601</td>\n",
              "      <td>1183763</td>\n",
              "      <td>53439</td>\n",
              "      <td>1067</td>\n",
              "      <td>3</td>\n",
              "    </tr>\n",
              "    <tr>\n",
              "      <th>14-token</th>\n",
              "      <td>8018145</td>\n",
              "      <td>1062057</td>\n",
              "      <td>38576</td>\n",
              "      <td>649</td>\n",
              "      <td>0</td>\n",
              "    </tr>\n",
              "    <tr>\n",
              "      <th>15-token</th>\n",
              "      <td>8589850</td>\n",
              "      <td>930338</td>\n",
              "      <td>27563</td>\n",
              "      <td>399</td>\n",
              "      <td>0</td>\n",
              "    </tr>\n",
              "  </tbody>\n",
              "</table>\n",
              "</div>\n",
              "      <button class=\"colab-df-convert\" onclick=\"convertToInteractive('df-5eb1917a-1782-4b03-b6cc-92a61fa323ad')\"\n",
              "              title=\"Convert this dataframe to an interactive table.\"\n",
              "              style=\"display:none;\">\n",
              "        \n",
              "  <svg xmlns=\"http://www.w3.org/2000/svg\" height=\"24px\"viewBox=\"0 0 24 24\"\n",
              "       width=\"24px\">\n",
              "    <path d=\"M0 0h24v24H0V0z\" fill=\"none\"/>\n",
              "    <path d=\"M18.56 5.44l.94 2.06.94-2.06 2.06-.94-2.06-.94-.94-2.06-.94 2.06-2.06.94zm-11 1L8.5 8.5l.94-2.06 2.06-.94-2.06-.94L8.5 2.5l-.94 2.06-2.06.94zm10 10l.94 2.06.94-2.06 2.06-.94-2.06-.94-.94-2.06-.94 2.06-2.06.94z\"/><path d=\"M17.41 7.96l-1.37-1.37c-.4-.4-.92-.59-1.43-.59-.52 0-1.04.2-1.43.59L10.3 9.45l-7.72 7.72c-.78.78-.78 2.05 0 2.83L4 21.41c.39.39.9.59 1.41.59.51 0 1.02-.2 1.41-.59l7.78-7.78 2.81-2.81c.8-.78.8-2.07 0-2.86zM5.41 20L4 18.59l7.72-7.72 1.47 1.35L5.41 20z\"/>\n",
              "  </svg>\n",
              "      </button>\n",
              "      \n",
              "  <style>\n",
              "    .colab-df-container {\n",
              "      display:flex;\n",
              "      flex-wrap:wrap;\n",
              "      gap: 12px;\n",
              "    }\n",
              "\n",
              "    .colab-df-convert {\n",
              "      background-color: #E8F0FE;\n",
              "      border: none;\n",
              "      border-radius: 50%;\n",
              "      cursor: pointer;\n",
              "      display: none;\n",
              "      fill: #1967D2;\n",
              "      height: 32px;\n",
              "      padding: 0 0 0 0;\n",
              "      width: 32px;\n",
              "    }\n",
              "\n",
              "    .colab-df-convert:hover {\n",
              "      background-color: #E2EBFA;\n",
              "      box-shadow: 0px 1px 2px rgba(60, 64, 67, 0.3), 0px 1px 3px 1px rgba(60, 64, 67, 0.15);\n",
              "      fill: #174EA6;\n",
              "    }\n",
              "\n",
              "    [theme=dark] .colab-df-convert {\n",
              "      background-color: #3B4455;\n",
              "      fill: #D2E3FC;\n",
              "    }\n",
              "\n",
              "    [theme=dark] .colab-df-convert:hover {\n",
              "      background-color: #434B5C;\n",
              "      box-shadow: 0px 1px 3px 1px rgba(0, 0, 0, 0.15);\n",
              "      filter: drop-shadow(0px 1px 2px rgba(0, 0, 0, 0.3));\n",
              "      fill: #FFFFFF;\n",
              "    }\n",
              "  </style>\n",
              "\n",
              "      <script>\n",
              "        const buttonEl =\n",
              "          document.querySelector('#df-5eb1917a-1782-4b03-b6cc-92a61fa323ad button.colab-df-convert');\n",
              "        buttonEl.style.display =\n",
              "          google.colab.kernel.accessAllowed ? 'block' : 'none';\n",
              "\n",
              "        async function convertToInteractive(key) {\n",
              "          const element = document.querySelector('#df-5eb1917a-1782-4b03-b6cc-92a61fa323ad');\n",
              "          const dataTable =\n",
              "            await google.colab.kernel.invokeFunction('convertToInteractive',\n",
              "                                                     [key], {});\n",
              "          if (!dataTable) return;\n",
              "\n",
              "          const docLinkHtml = 'Like what you see? Visit the ' +\n",
              "            '<a target=\"_blank\" href=https://colab.research.google.com/notebooks/data_table.ipynb>data table notebook</a>'\n",
              "            + ' to learn more about interactive tables.';\n",
              "          element.innerHTML = '';\n",
              "          dataTable['output_type'] = 'display_data';\n",
              "          await google.colab.output.renderOutput(dataTable, element);\n",
              "          const docLink = document.createElement('div');\n",
              "          docLink.innerHTML = docLinkHtml;\n",
              "          element.appendChild(docLink);\n",
              "        }\n",
              "      </script>\n",
              "    </div>\n",
              "  </div>\n",
              "  "
            ],
            "text/plain": [
              "          >0 counts  >1 counts  >10 counts  >100 counts  >1000 counts\n",
              "1-token         243        243         123           70            54\n",
              "2-token        1628       1628        1056          736           449\n",
              "3-token       13453      12713        8777         4803          1806\n",
              "4-token       71913      63206       35207        12934          2142\n",
              "5-token      260622     195276       81738        18334          1378\n",
              "6-token      689031     431650      127881        17175           821\n",
              "7-token     1396234     723418      149924        13902           475\n",
              "8-token     2330206     990803      150160        10427           256\n",
              "9-token     3390749    1186401      137086         7223           130\n",
              "10-token    4474981    1293110      117365         4746            55\n",
              "11-token    5520936    1319516       94712         2925            22\n",
              "12-token    6480976    1277937       72161         1791             8\n",
              "13-token    7317601    1183763       53439         1067             3\n",
              "14-token    8018145    1062057       38576          649             0\n",
              "15-token    8589850     930338       27563          399             0"
            ]
          },
          "execution_count": 15,
          "metadata": {},
          "output_type": "execute_result"
        }
      ],
      "source": [
        "cdf"
      ]
    },
    {
      "cell_type": "code",
      "execution_count": 8,
      "metadata": {
        "colab": {
          "base_uri": "https://localhost:8080/"
        },
        "id": "JSxwR4BBDGnP",
        "outputId": "2bacad4a-ab66-4661-a98d-0f2aa6c31d74"
      },
      "outputs": [
        {
          "data": {
            "text/plain": [
              "[((' ', '<', 'u', 'n', 'k', '>', ' ', ',', ' ', '<', 'u', 'n', 'k', '>', ' '),\n",
              "  902),\n",
              " ((' ', 'u', 'n', 'i', 't', 'e', 'd', ' ', 's', 't', 'a', 't', 'e', 's', ' '),\n",
              "  783),\n",
              " ((' ', '<', 'u', 'n', 'k', '>', ' ', '<', 'u', 'n', 'k', '>', ' ', ',', ' '),\n",
              "  745),\n",
              " ((' ', 't', 'h', 'e', ' ', 'u', 'n', 'i', 't', 'e', 'd', ' ', 's', 't', 'a'),\n",
              "  668),\n",
              " (('t', 'h', 'e', ' ', 'u', 'n', 'i', 't', 'e', 'd', ' ', 's', 't', 'a', 't'),\n",
              "  668),\n",
              " (('h', 'e', ' ', 'u', 'n', 'i', 't', 'e', 'd', ' ', 's', 't', 'a', 't', 'e'),\n",
              "  668),\n",
              " (('e', ' ', 'u', 'n', 'i', 't', 'e', 'd', ' ', 's', 't', 'a', 't', 'e', 's'),\n",
              "  668),\n",
              " ((' ', '<', 'u', 'n', 'k', '>', ' ', 'a', 'n', 'd', ' ', '<', 'u', 'n', 'k'),\n",
              "  653),\n",
              " (('<', 'u', 'n', 'k', '>', ' ', 'a', 'n', 'd', ' ', '<', 'u', 'n', 'k', '>'),\n",
              "  653),\n",
              " (('u', 'n', 'k', '>', ' ', 'a', 'n', 'd', ' ', '<', 'u', 'n', 'k', '>', ' '),\n",
              "  653)]"
            ]
          },
          "execution_count": 8,
          "metadata": {},
          "output_type": "execute_result"
        }
      ],
      "source": [
        "char_cnts[-1].most_common(10)"
      ]
    },
    {
      "cell_type": "markdown",
      "metadata": {
        "id": "QV4w-QP8DGnQ"
      },
      "source": [
        "# Plotting the frequencies of ordered combinataions"
      ]
    },
    {
      "cell_type": "code",
      "execution_count": 4,
      "metadata": {
        "colab": {
          "base_uri": "https://localhost:8080/"
        },
        "id": "cd705pKmwPVf",
        "outputId": "be62fd81-8f84-4983-8853-71f51deed417"
      },
      "outputs": [
        {
          "data": {
            "text/plain": [
              "[1, 2, 4, 8, 16, 32, 64]"
            ]
          },
          "execution_count": 4,
          "metadata": {},
          "output_type": "execute_result"
        }
      ],
      "source": [
        "plns = [round(2**k) for k in range(7)]\n",
        "plns"
      ]
    },
    {
      "cell_type": "code",
      "execution_count": 5,
      "metadata": {
        "colab": {
          "base_uri": "https://localhost:8080/"
        },
        "id": "NbYGHNkXw6qm",
        "outputId": "9223ce9e-98ef-4f13-b216-54aecd12b81d"
      },
      "outputs": [
        {
          "name": "stdout",
          "output_type": "stream",
          "text": [
            "time 85.714 s\n"
          ]
        }
      ],
      "source": [
        "# the frequency distribution of n-char sequences\n",
        "start_time = time.time()\n",
        "char_fds = [sorted(count_n(train_str, i).values(), reverse=True) for i in plns]\n",
        "print(f'time {time.time() - start_time:.3f} s')"
      ]
    },
    {
      "cell_type": "code",
      "execution_count": 10,
      "metadata": {
        "colab": {
          "base_uri": "https://localhost:8080/",
          "height": 469
        },
        "id": "WSfWTCo6yZtm",
        "outputId": "200933f9-e4ff-42e3-ceb3-d4e667a4115a"
      },
      "outputs": [
        {
          "data": {
            "image/png": "[encoded data removed]",
            "text/plain": [
              "<Figure size 1000x500 with 1 Axes>"
            ]
          },
          "metadata": {},
          "output_type": "display_data"
        }
      ],
      "source": [
        "plt.figure(figsize=(10, 5))\n",
        "\n",
        "for n, fd in zip(plns, char_fds):\n",
        "    plt.plot(fd, marker='.', linestyle='none', label=f'{n}-token')\n",
        "\n",
        "plt.xscale('log')\n",
        "plt.yscale('log')\n",
        "plt.xlabel('n')\n",
        "plt.ylabel('Number of counts')\n",
        "plt.legend()\n",
        "plt.grid(which='both')"
      ]
    },
    {
      "cell_type": "markdown",
      "metadata": {
        "id": "xTzDRDS-DGnW"
      },
      "source": [
        "# Counting combinations of characters neglecting the order"
      ]
    },
    {
      "cell_type": "code",
      "execution_count": null,
      "metadata": {
        "id": "9AQ0_9OvDGnW"
      },
      "outputs": [],
      "source": [
        "# There seems to be surprisingly little information contained in the character position"
      ]
    },
    {
      "cell_type": "code",
      "execution_count": 19,
      "metadata": {
        "colab": {
          "base_uri": "https://localhost:8080/"
        },
        "id": "iiODPdsdDGnX",
        "outputId": "33a2997e-f259-40b8-ea6d-1f95d8c1bfa7"
      },
      "outputs": [
        {
          "name": "stdout",
          "output_type": "stream",
          "text": [
            "time 360.351 s\n"
          ]
        }
      ],
      "source": [
        "start_time = time.time()\n",
        "char_cnts_uo = [count_n_unordered(train_str, i) for i in range(2, 10)]  # sequences of 2 to 9 tokens\n",
        "print(f'time {time.time() - start_time:.3f} s')"
      ]
    },
    {
      "cell_type": "code",
      "execution_count": 20,
      "metadata": {
        "id": "MdQH5LuvDGnY"
      },
      "outputs": [],
      "source": [
        "min_ncount = (0, 1, 10, 100, 1000)  # minimum number of counts\n",
        "d_no = {f'>{nc} counts':[len([k for k, v in cnt.items() if v > nc]) for cnt in char_cnts_uo] for nc in min_ncount}\n",
        "cdf_no = pd.DataFrame(d_no, index=[f'{i+2}-token' for i in range(len(char_cnts_uo))])"
      ]
    },
    {
      "cell_type": "code",
      "execution_count": 23,
      "metadata": {
        "id": "EN6iAvfXkQlJ"
      },
      "outputs": [],
      "source": [
        "# cdf_no.to_csv('unordered_counts.csv')\n",
        "# cdf_no = pd.read_csv('unordered_counts.csv', index_col=0)"
      ]
    },
    {
      "cell_type": "code",
      "execution_count": 22,
      "metadata": {
        "colab": {
          "base_uri": "https://localhost:8080/",
          "height": 300
        },
        "id": "5zshXYv8kMh1",
        "outputId": "94f89c44-fc28-432e-aff1-b8cbbf91a58e"
      },
      "outputs": [
        {
          "data": {
            "text/html": [
              "\n",
              "  <div id=\"df-ec8da6a3-552c-4eae-b35c-c2d58c1e1286\">\n",
              "    <div class=\"colab-df-container\">\n",
              "      <div>\n",
              "<style scoped>\n",
              "    .dataframe tbody tr th:only-of-type {\n",
              "        vertical-align: middle;\n",
              "    }\n",
              "\n",
              "    .dataframe tbody tr th {\n",
              "        vertical-align: top;\n",
              "    }\n",
              "\n",
              "    .dataframe thead th {\n",
              "        text-align: right;\n",
              "    }\n",
              "</style>\n",
              "<table border=\"1\" class=\"dataframe\">\n",
              "  <thead>\n",
              "    <tr style=\"text-align: right;\">\n",
              "      <th></th>\n",
              "      <th>&gt;0 counts</th>\n",
              "      <th>&gt;1 counts</th>\n",
              "      <th>&gt;10 counts</th>\n",
              "      <th>&gt;100 counts</th>\n",
              "      <th>&gt;1000 counts</th>\n",
              "    </tr>\n",
              "  </thead>\n",
              "  <tbody>\n",
              "    <tr>\n",
              "      <th>2-token</th>\n",
              "      <td>1055</td>\n",
              "      <td>1055</td>\n",
              "      <td>679</td>\n",
              "      <td>446</td>\n",
              "      <td>301</td>\n",
              "    </tr>\n",
              "    <tr>\n",
              "      <th>3-token</th>\n",
              "      <td>6012</td>\n",
              "      <td>5535</td>\n",
              "      <td>3822</td>\n",
              "      <td>2359</td>\n",
              "      <td>1140</td>\n",
              "    </tr>\n",
              "    <tr>\n",
              "      <th>4-token</th>\n",
              "      <td>24385</td>\n",
              "      <td>21650</td>\n",
              "      <td>14128</td>\n",
              "      <td>6745</td>\n",
              "      <td>2004</td>\n",
              "    </tr>\n",
              "    <tr>\n",
              "      <th>5-token</th>\n",
              "      <td>84882</td>\n",
              "      <td>67953</td>\n",
              "      <td>35213</td>\n",
              "      <td>12329</td>\n",
              "      <td>2239</td>\n",
              "    </tr>\n",
              "    <tr>\n",
              "      <th>6-token</th>\n",
              "      <td>220947</td>\n",
              "      <td>158254</td>\n",
              "      <td>67123</td>\n",
              "      <td>17594</td>\n",
              "      <td>1744</td>\n",
              "    </tr>\n",
              "    <tr>\n",
              "      <th>7-token</th>\n",
              "      <td>465643</td>\n",
              "      <td>301490</td>\n",
              "      <td>107143</td>\n",
              "      <td>20070</td>\n",
              "      <td>1004</td>\n",
              "    </tr>\n",
              "    <tr>\n",
              "      <th>8-token</th>\n",
              "      <td>871004</td>\n",
              "      <td>510891</td>\n",
              "      <td>147819</td>\n",
              "      <td>17783</td>\n",
              "      <td>530</td>\n",
              "    </tr>\n",
              "    <tr>\n",
              "      <th>9-token</th>\n",
              "      <td>1463241</td>\n",
              "      <td>777920</td>\n",
              "      <td>173251</td>\n",
              "      <td>13369</td>\n",
              "      <td>293</td>\n",
              "    </tr>\n",
              "  </tbody>\n",
              "</table>\n",
              "</div>\n",
              "      <button class=\"colab-df-convert\" onclick=\"convertToInteractive('df-ec8da6a3-552c-4eae-b35c-c2d58c1e1286')\"\n",
              "              title=\"Convert this dataframe to an interactive table.\"\n",
              "              style=\"display:none;\">\n",
              "        \n",
              "  <svg xmlns=\"http://www.w3.org/2000/svg\" height=\"24px\"viewBox=\"0 0 24 24\"\n",
              "       width=\"24px\">\n",
              "    <path d=\"M0 0h24v24H0V0z\" fill=\"none\"/>\n",
              "    <path d=\"M18.56 5.44l.94 2.06.94-2.06 2.06-.94-2.06-.94-.94-2.06-.94 2.06-2.06.94zm-11 1L8.5 8.5l.94-2.06 2.06-.94-2.06-.94L8.5 2.5l-.94 2.06-2.06.94zm10 10l.94 2.06.94-2.06 2.06-.94-2.06-.94-.94-2.06-.94 2.06-2.06.94z\"/><path d=\"M17.41 7.96l-1.37-1.37c-.4-.4-.92-.59-1.43-.59-.52 0-1.04.2-1.43.59L10.3 9.45l-7.72 7.72c-.78.78-.78 2.05 0 2.83L4 21.41c.39.39.9.59 1.41.59.51 0 1.02-.2 1.41-.59l7.78-7.78 2.81-2.81c.8-.78.8-2.07 0-2.86zM5.41 20L4 18.59l7.72-7.72 1.47 1.35L5.41 20z\"/>\n",
              "  </svg>\n",
              "      </button>\n",
              "      \n",
              "  <style>\n",
              "    .colab-df-container {\n",
              "      display:flex;\n",
              "      flex-wrap:wrap;\n",
              "      gap: 12px;\n",
              "    }\n",
              "\n",
              "    .colab-df-convert {\n",
              "      background-color: #E8F0FE;\n",
              "      border: none;\n",
              "      border-radius: 50%;\n",
              "      cursor: pointer;\n",
              "      display: none;\n",
              "      fill: #1967D2;\n",
              "      height: 32px;\n",
              "      padding: 0 0 0 0;\n",
              "      width: 32px;\n",
              "    }\n",
              "\n",
              "    .colab-df-convert:hover {\n",
              "      background-color: #E2EBFA;\n",
              "      box-shadow: 0px 1px 2px rgba(60, 64, 67, 0.3), 0px 1px 3px 1px rgba(60, 64, 67, 0.15);\n",
              "      fill: #174EA6;\n",
              "    }\n",
              "\n",
              "    [theme=dark] .colab-df-convert {\n",
              "      background-color: #3B4455;\n",
              "      fill: #D2E3FC;\n",
              "    }\n",
              "\n",
              "    [theme=dark] .colab-df-convert:hover {\n",
              "      background-color: #434B5C;\n",
              "      box-shadow: 0px 1px 3px 1px rgba(0, 0, 0, 0.15);\n",
              "      filter: drop-shadow(0px 1px 2px rgba(0, 0, 0, 0.3));\n",
              "      fill: #FFFFFF;\n",
              "    }\n",
              "  </style>\n",
              "\n",
              "      <script>\n",
              "        const buttonEl =\n",
              "          document.querySelector('#df-ec8da6a3-552c-4eae-b35c-c2d58c1e1286 button.colab-df-convert');\n",
              "        buttonEl.style.display =\n",
              "          google.colab.kernel.accessAllowed ? 'block' : 'none';\n",
              "\n",
              "        async function convertToInteractive(key) {\n",
              "          const element = document.querySelector('#df-ec8da6a3-552c-4eae-b35c-c2d58c1e1286');\n",
              "          const dataTable =\n",
              "            await google.colab.kernel.invokeFunction('convertToInteractive',\n",
              "                                                     [key], {});\n",
              "          if (!dataTable) return;\n",
              "\n",
              "          const docLinkHtml = 'Like what you see? Visit the ' +\n",
              "            '<a target=\"_blank\" href=https://colab.research.google.com/notebooks/data_table.ipynb>data table notebook</a>'\n",
              "            + ' to learn more about interactive tables.';\n",
              "          element.innerHTML = '';\n",
              "          dataTable['output_type'] = 'display_data';\n",
              "          await google.colab.output.renderOutput(dataTable, element);\n",
              "          const docLink = document.createElement('div');\n",
              "          docLink.innerHTML = docLinkHtml;\n",
              "          element.appendChild(docLink);\n",
              "        }\n",
              "      </script>\n",
              "    </div>\n",
              "  </div>\n",
              "  "
            ],
            "text/plain": [
              "         >0 counts  >1 counts  >10 counts  >100 counts  >1000 counts\n",
              "2-token       1055       1055         679          446           301\n",
              "3-token       6012       5535        3822         2359          1140\n",
              "4-token      24385      21650       14128         6745          2004\n",
              "5-token      84882      67953       35213        12329          2239\n",
              "6-token     220947     158254       67123        17594          1744\n",
              "7-token     465643     301490      107143        20070          1004\n",
              "8-token     871004     510891      147819        17783           530\n",
              "9-token    1463241     777920      173251        13369           293"
            ]
          },
          "execution_count": 22,
          "metadata": {},
          "output_type": "execute_result"
        }
      ],
      "source": [
        "cdf_no"
      ]
    },
    {
      "cell_type": "code",
      "execution_count": 27,
      "metadata": {
        "colab": {
          "base_uri": "https://localhost:8080/"
        },
        "id": "jB7hFFVnDGnY",
        "outputId": "9b1540b2-6e66-4f28-bd88-f2905240d2b7"
      },
      "outputs": [
        {
          "data": {
            "text/plain": [
              "[(frozenset({('\\n', 2), (' ', 5), ('=', 2)}), 11164),\n",
              " (frozenset({(' ', 3),\n",
              "             (',', 1),\n",
              "             ('<', 1),\n",
              "             ('>', 1),\n",
              "             ('k', 1),\n",
              "             ('n', 1),\n",
              "             ('u', 1)}),\n",
              "  10858),\n",
              " (frozenset({(' ', 2),\n",
              "             ('<', 1),\n",
              "             ('>', 1),\n",
              "             ('f', 1),\n",
              "             ('k', 1),\n",
              "             ('n', 1),\n",
              "             ('o', 1),\n",
              "             ('u', 1)}),\n",
              "  8981)]"
            ]
          },
          "execution_count": 27,
          "metadata": {},
          "output_type": "execute_result"
        }
      ],
      "source": [
        "char_cnts_uo[-1].most_common(3)"
      ]
    },
    {
      "cell_type": "code",
      "execution_count": 31,
      "metadata": {
        "colab": {
          "base_uri": "https://localhost:8080/",
          "height": 300
        },
        "id": "Nr3J2Bz5DGnZ",
        "outputId": "e4e77b63-4e7e-46d2-eb56-bdbdc28e35a5"
      },
      "outputs": [
        {
          "data": {
            "text/html": [
              "\n",
              "  <div id=\"df-dbaa04a9-7420-48c2-a470-66441287d9d7\">\n",
              "    <div class=\"colab-df-container\">\n",
              "      <div>\n",
              "<style scoped>\n",
              "    .dataframe tbody tr th:only-of-type {\n",
              "        vertical-align: middle;\n",
              "    }\n",
              "\n",
              "    .dataframe tbody tr th {\n",
              "        vertical-align: top;\n",
              "    }\n",
              "\n",
              "    .dataframe thead th {\n",
              "        text-align: right;\n",
              "    }\n",
              "</style>\n",
              "<table border=\"1\" class=\"dataframe\">\n",
              "  <thead>\n",
              "    <tr style=\"text-align: right;\">\n",
              "      <th></th>\n",
              "      <th>&gt;0 counts</th>\n",
              "      <th>&gt;1 counts</th>\n",
              "      <th>&gt;10 counts</th>\n",
              "      <th>&gt;100 counts</th>\n",
              "      <th>&gt;1000 counts</th>\n",
              "    </tr>\n",
              "  </thead>\n",
              "  <tbody>\n",
              "    <tr>\n",
              "      <th>2-token</th>\n",
              "      <td>573</td>\n",
              "      <td>573</td>\n",
              "      <td>377</td>\n",
              "      <td>290</td>\n",
              "      <td>148</td>\n",
              "    </tr>\n",
              "    <tr>\n",
              "      <th>3-token</th>\n",
              "      <td>7441</td>\n",
              "      <td>7178</td>\n",
              "      <td>4955</td>\n",
              "      <td>2444</td>\n",
              "      <td>666</td>\n",
              "    </tr>\n",
              "    <tr>\n",
              "      <th>4-token</th>\n",
              "      <td>47528</td>\n",
              "      <td>41556</td>\n",
              "      <td>21079</td>\n",
              "      <td>6189</td>\n",
              "      <td>138</td>\n",
              "    </tr>\n",
              "    <tr>\n",
              "      <th>5-token</th>\n",
              "      <td>175740</td>\n",
              "      <td>127323</td>\n",
              "      <td>46525</td>\n",
              "      <td>6005</td>\n",
              "      <td>-861</td>\n",
              "    </tr>\n",
              "    <tr>\n",
              "      <th>6-token</th>\n",
              "      <td>468084</td>\n",
              "      <td>273396</td>\n",
              "      <td>60758</td>\n",
              "      <td>-419</td>\n",
              "      <td>-923</td>\n",
              "    </tr>\n",
              "    <tr>\n",
              "      <th>7-token</th>\n",
              "      <td>930591</td>\n",
              "      <td>421928</td>\n",
              "      <td>42781</td>\n",
              "      <td>-6168</td>\n",
              "      <td>-529</td>\n",
              "    </tr>\n",
              "    <tr>\n",
              "      <th>8-token</th>\n",
              "      <td>1459202</td>\n",
              "      <td>479912</td>\n",
              "      <td>2341</td>\n",
              "      <td>-7356</td>\n",
              "      <td>-274</td>\n",
              "    </tr>\n",
              "    <tr>\n",
              "      <th>9-token</th>\n",
              "      <td>1927508</td>\n",
              "      <td>408481</td>\n",
              "      <td>-36165</td>\n",
              "      <td>-6146</td>\n",
              "      <td>-163</td>\n",
              "    </tr>\n",
              "  </tbody>\n",
              "</table>\n",
              "</div>\n",
              "      <button class=\"colab-df-convert\" onclick=\"convertToInteractive('df-dbaa04a9-7420-48c2-a470-66441287d9d7')\"\n",
              "              title=\"Convert this dataframe to an interactive table.\"\n",
              "              style=\"display:none;\">\n",
              "        \n",
              "  <svg xmlns=\"http://www.w3.org/2000/svg\" height=\"24px\"viewBox=\"0 0 24 24\"\n",
              "       width=\"24px\">\n",
              "    <path d=\"M0 0h24v24H0V0z\" fill=\"none\"/>\n",
              "    <path d=\"M18.56 5.44l.94 2.06.94-2.06 2.06-.94-2.06-.94-.94-2.06-.94 2.06-2.06.94zm-11 1L8.5 8.5l.94-2.06 2.06-.94-2.06-.94L8.5 2.5l-.94 2.06-2.06.94zm10 10l.94 2.06.94-2.06 2.06-.94-2.06-.94-.94-2.06-.94 2.06-2.06.94z\"/><path d=\"M17.41 7.96l-1.37-1.37c-.4-.4-.92-.59-1.43-.59-.52 0-1.04.2-1.43.59L10.3 9.45l-7.72 7.72c-.78.78-.78 2.05 0 2.83L4 21.41c.39.39.9.59 1.41.59.51 0 1.02-.2 1.41-.59l7.78-7.78 2.81-2.81c.8-.78.8-2.07 0-2.86zM5.41 20L4 18.59l7.72-7.72 1.47 1.35L5.41 20z\"/>\n",
              "  </svg>\n",
              "      </button>\n",
              "      \n",
              "  <style>\n",
              "    .colab-df-container {\n",
              "      display:flex;\n",
              "      flex-wrap:wrap;\n",
              "      gap: 12px;\n",
              "    }\n",
              "\n",
              "    .colab-df-convert {\n",
              "      background-color: #E8F0FE;\n",
              "      border: none;\n",
              "      border-radius: 50%;\n",
              "      cursor: pointer;\n",
              "      display: none;\n",
              "      fill: #1967D2;\n",
              "      height: 32px;\n",
              "      padding: 0 0 0 0;\n",
              "      width: 32px;\n",
              "    }\n",
              "\n",
              "    .colab-df-convert:hover {\n",
              "      background-color: #E2EBFA;\n",
              "      box-shadow: 0px 1px 2px rgba(60, 64, 67, 0.3), 0px 1px 3px 1px rgba(60, 64, 67, 0.15);\n",
              "      fill: #174EA6;\n",
              "    }\n",
              "\n",
              "    [theme=dark] .colab-df-convert {\n",
              "      background-color: #3B4455;\n",
              "      fill: #D2E3FC;\n",
              "    }\n",
              "\n",
              "    [theme=dark] .colab-df-convert:hover {\n",
              "      background-color: #434B5C;\n",
              "      box-shadow: 0px 1px 3px 1px rgba(0, 0, 0, 0.15);\n",
              "      filter: drop-shadow(0px 1px 2px rgba(0, 0, 0, 0.3));\n",
              "      fill: #FFFFFF;\n",
              "    }\n",
              "  </style>\n",
              "\n",
              "      <script>\n",
              "        const buttonEl =\n",
              "          document.querySelector('#df-dbaa04a9-7420-48c2-a470-66441287d9d7 button.colab-df-convert');\n",
              "        buttonEl.style.display =\n",
              "          google.colab.kernel.accessAllowed ? 'block' : 'none';\n",
              "\n",
              "        async function convertToInteractive(key) {\n",
              "          const element = document.querySelector('#df-dbaa04a9-7420-48c2-a470-66441287d9d7');\n",
              "          const dataTable =\n",
              "            await google.colab.kernel.invokeFunction('convertToInteractive',\n",
              "                                                     [key], {});\n",
              "          if (!dataTable) return;\n",
              "\n",
              "          const docLinkHtml = 'Like what you see? Visit the ' +\n",
              "            '<a target=\"_blank\" href=https://colab.research.google.com/notebooks/data_table.ipynb>data table notebook</a>'\n",
              "            + ' to learn more about interactive tables.';\n",
              "          element.innerHTML = '';\n",
              "          dataTable['output_type'] = 'display_data';\n",
              "          await google.colab.output.renderOutput(dataTable, element);\n",
              "          const docLink = document.createElement('div');\n",
              "          docLink.innerHTML = docLinkHtml;\n",
              "          element.appendChild(docLink);\n",
              "        }\n",
              "      </script>\n",
              "    </div>\n",
              "  </div>\n",
              "  "
            ],
            "text/plain": [
              "         >0 counts  >1 counts  >10 counts  >100 counts  >1000 counts\n",
              "2-token        573        573         377          290           148\n",
              "3-token       7441       7178        4955         2444           666\n",
              "4-token      47528      41556       21079         6189           138\n",
              "5-token     175740     127323       46525         6005          -861\n",
              "6-token     468084     273396       60758         -419          -923\n",
              "7-token     930591     421928       42781        -6168          -529\n",
              "8-token    1459202     479912        2341        -7356          -274\n",
              "9-token    1927508     408481      -36165        -6146          -163"
            ]
          },
          "execution_count": 31,
          "metadata": {},
          "output_type": "execute_result"
        }
      ],
      "source": [
        "# The difference in the number of ordered and unordered unique combinations\n",
        "cdf[1:9] - cdf_no"
      ]
    },
    {
      "cell_type": "code",
      "execution_count": 34,
      "metadata": {
        "colab": {
          "base_uri": "https://localhost:8080/",
          "height": 300
        },
        "id": "1TgBlqTbDGnZ",
        "outputId": "6ab0152d-9218-4f4b-b6b1-5f1d0b68d92c"
      },
      "outputs": [
        {
          "data": {
            "text/html": [
              "\n",
              "  <div id=\"df-b7977e09-d705-49e2-899e-71a969a203fb\">\n",
              "    <div class=\"colab-df-container\">\n",
              "      <div>\n",
              "<style scoped>\n",
              "    .dataframe tbody tr th:only-of-type {\n",
              "        vertical-align: middle;\n",
              "    }\n",
              "\n",
              "    .dataframe tbody tr th {\n",
              "        vertical-align: top;\n",
              "    }\n",
              "\n",
              "    .dataframe thead th {\n",
              "        text-align: right;\n",
              "    }\n",
              "</style>\n",
              "<table border=\"1\" class=\"dataframe\">\n",
              "  <thead>\n",
              "    <tr style=\"text-align: right;\">\n",
              "      <th></th>\n",
              "      <th>&gt;0 counts</th>\n",
              "      <th>&gt;1 counts</th>\n",
              "      <th>&gt;10 counts</th>\n",
              "      <th>&gt;100 counts</th>\n",
              "      <th>&gt;1000 counts</th>\n",
              "    </tr>\n",
              "  </thead>\n",
              "  <tbody>\n",
              "    <tr>\n",
              "      <th>2-token</th>\n",
              "      <td>0.351966</td>\n",
              "      <td>0.351966</td>\n",
              "      <td>0.357008</td>\n",
              "      <td>0.394022</td>\n",
              "      <td>0.329621</td>\n",
              "    </tr>\n",
              "    <tr>\n",
              "      <th>3-token</th>\n",
              "      <td>0.553111</td>\n",
              "      <td>0.564619</td>\n",
              "      <td>0.564544</td>\n",
              "      <td>0.508849</td>\n",
              "      <td>0.368771</td>\n",
              "    </tr>\n",
              "    <tr>\n",
              "      <th>4-token</th>\n",
              "      <td>0.660910</td>\n",
              "      <td>0.657469</td>\n",
              "      <td>0.598716</td>\n",
              "      <td>0.478506</td>\n",
              "      <td>0.064426</td>\n",
              "    </tr>\n",
              "    <tr>\n",
              "      <th>5-token</th>\n",
              "      <td>0.674310</td>\n",
              "      <td>0.652016</td>\n",
              "      <td>0.569197</td>\n",
              "      <td>0.327534</td>\n",
              "      <td>-0.624819</td>\n",
              "    </tr>\n",
              "    <tr>\n",
              "      <th>6-token</th>\n",
              "      <td>0.679337</td>\n",
              "      <td>0.633374</td>\n",
              "      <td>0.475114</td>\n",
              "      <td>-0.024396</td>\n",
              "      <td>-1.124239</td>\n",
              "    </tr>\n",
              "    <tr>\n",
              "      <th>7-token</th>\n",
              "      <td>0.666501</td>\n",
              "      <td>0.583242</td>\n",
              "      <td>0.285351</td>\n",
              "      <td>-0.443677</td>\n",
              "      <td>-1.113684</td>\n",
              "    </tr>\n",
              "    <tr>\n",
              "      <th>8-token</th>\n",
              "      <td>0.626212</td>\n",
              "      <td>0.484367</td>\n",
              "      <td>0.015590</td>\n",
              "      <td>-0.705476</td>\n",
              "      <td>-1.070312</td>\n",
              "    </tr>\n",
              "    <tr>\n",
              "      <th>9-token</th>\n",
              "      <td>0.568461</td>\n",
              "      <td>0.344303</td>\n",
              "      <td>-0.263812</td>\n",
              "      <td>-0.850893</td>\n",
              "      <td>-1.253846</td>\n",
              "    </tr>\n",
              "  </tbody>\n",
              "</table>\n",
              "</div>\n",
              "      <button class=\"colab-df-convert\" onclick=\"convertToInteractive('df-b7977e09-d705-49e2-899e-71a969a203fb')\"\n",
              "              title=\"Convert this dataframe to an interactive table.\"\n",
              "              style=\"display:none;\">\n",
              "        \n",
              "  <svg xmlns=\"http://www.w3.org/2000/svg\" height=\"24px\"viewBox=\"0 0 24 24\"\n",
              "       width=\"24px\">\n",
              "    <path d=\"M0 0h24v24H0V0z\" fill=\"none\"/>\n",
              "    <path d=\"M18.56 5.44l.94 2.06.94-2.06 2.06-.94-2.06-.94-.94-2.06-.94 2.06-2.06.94zm-11 1L8.5 8.5l.94-2.06 2.06-.94-2.06-.94L8.5 2.5l-.94 2.06-2.06.94zm10 10l.94 2.06.94-2.06 2.06-.94-2.06-.94-.94-2.06-.94 2.06-2.06.94z\"/><path d=\"M17.41 7.96l-1.37-1.37c-.4-.4-.92-.59-1.43-.59-.52 0-1.04.2-1.43.59L10.3 9.45l-7.72 7.72c-.78.78-.78 2.05 0 2.83L4 21.41c.39.39.9.59 1.41.59.51 0 1.02-.2 1.41-.59l7.78-7.78 2.81-2.81c.8-.78.8-2.07 0-2.86zM5.41 20L4 18.59l7.72-7.72 1.47 1.35L5.41 20z\"/>\n",
              "  </svg>\n",
              "      </button>\n",
              "      \n",
              "  <style>\n",
              "    .colab-df-container {\n",
              "      display:flex;\n",
              "      flex-wrap:wrap;\n",
              "      gap: 12px;\n",
              "    }\n",
              "\n",
              "    .colab-df-convert {\n",
              "      background-color: #E8F0FE;\n",
              "      border: none;\n",
              "      border-radius: 50%;\n",
              "      cursor: pointer;\n",
              "      display: none;\n",
              "      fill: #1967D2;\n",
              "      height: 32px;\n",
              "      padding: 0 0 0 0;\n",
              "      width: 32px;\n",
              "    }\n",
              "\n",
              "    .colab-df-convert:hover {\n",
              "      background-color: #E2EBFA;\n",
              "      box-shadow: 0px 1px 2px rgba(60, 64, 67, 0.3), 0px 1px 3px 1px rgba(60, 64, 67, 0.15);\n",
              "      fill: #174EA6;\n",
              "    }\n",
              "\n",
              "    [theme=dark] .colab-df-convert {\n",
              "      background-color: #3B4455;\n",
              "      fill: #D2E3FC;\n",
              "    }\n",
              "\n",
              "    [theme=dark] .colab-df-convert:hover {\n",
              "      background-color: #434B5C;\n",
              "      box-shadow: 0px 1px 3px 1px rgba(0, 0, 0, 0.15);\n",
              "      filter: drop-shadow(0px 1px 2px rgba(0, 0, 0, 0.3));\n",
              "      fill: #FFFFFF;\n",
              "    }\n",
              "  </style>\n",
              "\n",
              "      <script>\n",
              "        const buttonEl =\n",
              "          document.querySelector('#df-b7977e09-d705-49e2-899e-71a969a203fb button.colab-df-convert');\n",
              "        buttonEl.style.display =\n",
              "          google.colab.kernel.accessAllowed ? 'block' : 'none';\n",
              "\n",
              "        async function convertToInteractive(key) {\n",
              "          const element = document.querySelector('#df-b7977e09-d705-49e2-899e-71a969a203fb');\n",
              "          const dataTable =\n",
              "            await google.colab.kernel.invokeFunction('convertToInteractive',\n",
              "                                                     [key], {});\n",
              "          if (!dataTable) return;\n",
              "\n",
              "          const docLinkHtml = 'Like what you see? Visit the ' +\n",
              "            '<a target=\"_blank\" href=https://colab.research.google.com/notebooks/data_table.ipynb>data table notebook</a>'\n",
              "            + ' to learn more about interactive tables.';\n",
              "          element.innerHTML = '';\n",
              "          dataTable['output_type'] = 'display_data';\n",
              "          await google.colab.output.renderOutput(dataTable, element);\n",
              "          const docLink = document.createElement('div');\n",
              "          docLink.innerHTML = docLinkHtml;\n",
              "          element.appendChild(docLink);\n",
              "        }\n",
              "      </script>\n",
              "    </div>\n",
              "  </div>\n",
              "  "
            ],
            "text/plain": [
              "         >0 counts  >1 counts  >10 counts  >100 counts  >1000 counts\n",
              "2-token   0.351966   0.351966    0.357008     0.394022      0.329621\n",
              "3-token   0.553111   0.564619    0.564544     0.508849      0.368771\n",
              "4-token   0.660910   0.657469    0.598716     0.478506      0.064426\n",
              "5-token   0.674310   0.652016    0.569197     0.327534     -0.624819\n",
              "6-token   0.679337   0.633374    0.475114    -0.024396     -1.124239\n",
              "7-token   0.666501   0.583242    0.285351    -0.443677     -1.113684\n",
              "8-token   0.626212   0.484367    0.015590    -0.705476     -1.070312\n",
              "9-token   0.568461   0.344303   -0.263812    -0.850893     -1.253846"
            ]
          },
          "execution_count": 34,
          "metadata": {},
          "output_type": "execute_result"
        }
      ],
      "source": [
        "# The fractional difference\n",
        "((cdf[1:9] - cdf_no)/cdf[1:9])"
      ]
    },
    {
      "cell_type": "markdown",
      "metadata": {
        "id": "b0u1zgIX2TvT"
      },
      "source": [
        "# Paragraphs and sections"
      ]
    },
    {
      "cell_type": "code",
      "execution_count": 17,
      "metadata": {
        "id": "JDZr02SU10zt"
      },
      "outputs": [],
      "source": [
        "import re\n",
        "# The sections are denoted as  = ... = (1-st order), == ... == (2-nd order) or === ... === (3-rd order)b"
      ]
    },
    {
      "cell_type": "code",
      "execution_count": 41,
      "metadata": {
        "colab": {
          "base_uri": "https://localhost:8080/"
        },
        "id": "wt1QebEK6ZGV",
        "outputId": "6df7abaf-f799-4a52-e4a8-cd2a82bc15ef"
      },
      "outputs": [
        {
          "name": "stdout",
          "output_type": "stream",
          "text": [
            "1-st order headers: 629\n",
            "2-nd order headers: 2922\n",
            "3-rd order headers: 2346\n"
          ]
        }
      ],
      "source": [
        "# Training data\n",
        "\n",
        "nh1 = len(re.findall('\\n = [^=\\n]+ = \\n', train_str))\n",
        "nh2 = len(re.findall('\\n = = [^=\\n]+ = = \\n', train_str))\n",
        "nh3 = len(re.findall('\\n = = = [^=\\n]+ = = = \\n', train_str))\n",
        "\n",
        "print(f\"1-st order headers: {nh1}\")\n",
        "print(f\"2-nd order headers: {nh2}\")\n",
        "print(f\"3-rd order headers: {nh3}\")"
      ]
    },
    {
      "cell_type": "code",
      "execution_count": 42,
      "metadata": {
        "colab": {
          "base_uri": "https://localhost:8080/"
        },
        "id": "AIQhCCJS5uE6",
        "outputId": "ccd5c2be-0992-4bb6-a9e9-0e97a2649284"
      },
      "outputs": [
        {
          "name": "stdout",
          "output_type": "stream",
          "text": [
            "1-st order headers: 60\n",
            "2-nd order headers: 301\n",
            "3-rd order headers: 237\n"
          ]
        }
      ],
      "source": [
        "# Validation data\n",
        "\n",
        "nh1 = len(re.findall('\\n = [^=\\n]+ = \\n', val_str))\n",
        "nh2 = len(re.findall('\\n = = [^=\\n]+ = = \\n', val_str))\n",
        "nh3 = len(re.findall('\\n = = = [^=\\n]+ = = = \\n', val_str))\n",
        "\n",
        "print(f\"1-st order headers: {nh1}\")\n",
        "print(f\"2-nd order headers: {nh2}\")\n",
        "print(f\"3-rd order headers: {nh3}\")"
      ]
    },
    {
      "cell_type": "markdown",
      "metadata": {
        "id": "ZfxDWaXcDGnl"
      },
      "source": [
        "# Plain words"
      ]
    },
    {
      "cell_type": "code",
      "execution_count": null,
      "metadata": {
        "id": "TJTDsHdYDGnl",
        "outputId": "fcd8a925-0dfb-4185-aea7-029154f20086"
      },
      "outputs": [
        {
          "name": "stdout",
          "output_type": "stream",
          "text": [
            "Total words in the text: 2051910\n",
            "Vocabulary size: 28911\n"
          ]
        }
      ],
      "source": [
        "train_word_list = train_str.split()\n",
        "word_cnt = Counter(train_word_list)\n",
        "print(f'Total words in the text: {len(train_word_list)}')\n",
        "print(f'Vocabulary size: {len(word_cnt)}')"
      ]
    },
    {
      "cell_type": "code",
      "execution_count": null,
      "metadata": {
        "id": "Q5jIDagJDGnm",
        "outputId": "6b19289f-8498-4484-e382-8b45768e5a0c"
      },
      "outputs": [
        {
          "data": {
            "text/plain": [
              "4.2180656071660065"
            ]
          },
          "execution_count": 44,
          "metadata": {},
          "output_type": "execute_result"
        }
      ],
      "source": [
        "# Mean word length\n",
        "sum(len(k) * word_cnt[k]  for k in word_cnt)/len(train_word_list)"
      ]
    },
    {
      "cell_type": "code",
      "execution_count": null,
      "metadata": {
        "id": "5DdeDKVcDGnm",
        "outputId": "18a97ce1-c648-44f6-f4e4-1765f4c9949f"
      },
      "outputs": [
        {
          "name": "stdout",
          "output_type": "stream",
          "text": [
            "[('the', 130768), (',', 99913), ('.', 73388), ('of', 57030), ('<unk>', 54625), ('and', 50735), ('in', 44982), ('to', 39521), ('a', 36156), ('=', 29570), ('\"', 28309), ('was', 21008), ('@-@', 16906), ('on', 15140), ('as', 15058), ('that', 14351), (\"'s\", 14002), ('for', 13794), ('with', 13012), ('by', 12718)]\n"
          ]
        }
      ],
      "source": [
        "print(word_cnt.most_common(20))"
      ]
    },
    {
      "cell_type": "code",
      "execution_count": null,
      "metadata": {
        "id": "Cee7qHWADGnn",
        "outputId": "eb4f0310-7581-4f72-a8db-30279f3fbc41"
      },
      "outputs": [
        {
          "name": "stdout",
          "output_type": "stream",
          "text": [
            "[('yellowwoods', 3), ('tomentum', 3), ('secretion', 3), ('spruces', 3), ('lewenthal', 3), ('caprices', 3), ('étude', 3), ('mineurs', 3), ('sonatine', 3), ('chants', 3), ('philipp', 3), ('prefaced', 3), ('kreutzer', 3), ('forrester', 3), ('zoromski', 3), ('roundabouts', 3), ('tuscola', 3), ('northeasterly', 3), ('intergrades', 3), ('gallinae', 3)]\n"
          ]
        }
      ],
      "source": [
        "print(word_cnt.most_common()[-20:])"
      ]
    },
    {
      "cell_type": "code",
      "execution_count": null,
      "metadata": {
        "id": "IljmSLXvDGnr"
      },
      "outputs": [],
      "source": []
    }
  ],
  "metadata": {
    "colab": {
      "provenance": []
    },
    "kernelspec": {
      "display_name": "Python 3",
      "name": "python3"
    },
    "language_info": {
      "codemirror_mode": {
        "name": "ipython",
        "version": 3
      },
      "file_extension": ".py",
      "mimetype": "text/x-python",
      "name": "python",
      "nbconvert_exporter": "python",
      "pygments_lexer": "ipython3",
      "version": "3.11.3"
    },
    "orig_nbformat": 4
  },
  "nbformat": 4,
  "nbformat_minor": 0
}
